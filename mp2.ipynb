{
 "cells": [
  {
   "cell_type": "code",
   "execution_count": 1,
   "metadata": {},
   "outputs": [],
   "source": [
    "# project: p2\n",
    "# submitter: tlwhitten\n",
    "# partner: none\n",
    "# hours: 26\n"
   ]
  },
  {
   "cell_type": "code",
   "execution_count": 7,
   "metadata": {},
   "outputs": [],
   "source": [
    "import loans\n",
    "import pandas as pd\n",
    "import numpy as np\n",
    "import matplotlib.pyplot as plt\n",
    "%load_ext autoreload\n",
    "%autoreload 2"
   ]
  },
  {
   "cell_type": "code",
   "execution_count": 18,
   "metadata": {},
   "outputs": [
    {
     "data": {
      "text/plain": [
       "[Applicant('20-30','['Black or African American', 'American Indian or Alaska Native']'),\n",
       " Applicant('<25','['White']'),\n",
       " Applicant('35-44','['Chinese']'),\n",
       " Applicant('>75','['Samoan', 'Other Pacific Islander']')]"
      ]
     },
     "execution_count": 18,
     "metadata": {},
     "output_type": "execute_result"
    }
   ],
   "source": [
    "applicant = loans.Applicant(\"20-30\", [\"1\", \"2\", \"3\"])\n",
    "applicant.race\n",
    "applicant.lower_age()\n",
    "#applicant.repr()\n",
    "sorted([\n",
    "    loans.Applicant(\">75\", [\"43\", \"44\"]),\n",
    "    loans.Applicant(\"20-30\", [\"1\", \"3\"]),\n",
    "    loans.Applicant(\"35-44\", [\"22\"]),\n",
    "    loans.Applicant(\"<25\", [\"5\"]),\n",
    "])\n"
   ]
  },
  {
   "cell_type": "code",
   "execution_count": 15,
   "metadata": {},
   "outputs": [
    {
     "ename": "KeyError",
     "evalue": "'applicants'",
     "output_type": "error",
     "traceback": [
      "\u001b[1;31m---------------------------------------------------------------------------\u001b[0m",
      "\u001b[1;31mKeyError\u001b[0m                                  Traceback (most recent call last)",
      "\u001b[1;32m~\\AppData\\Local\\Temp/ipykernel_5896/1881508582.py\u001b[0m in \u001b[0;36m<module>\u001b[1;34m\u001b[0m\n\u001b[0;32m      1\u001b[0m \u001b[0mvalues\u001b[0m \u001b[1;33m=\u001b[0m \u001b[1;33m{\u001b[0m\u001b[1;34m'activity_year'\u001b[0m\u001b[1;33m:\u001b[0m \u001b[1;34m'2021'\u001b[0m\u001b[1;33m,\u001b[0m \u001b[1;34m'lei'\u001b[0m\u001b[1;33m:\u001b[0m \u001b[1;34m'549300Q76VHK6FGPX546'\u001b[0m\u001b[1;33m,\u001b[0m \u001b[1;34m'derived_msa-md'\u001b[0m\u001b[1;33m:\u001b[0m \u001b[1;34m'24580'\u001b[0m\u001b[1;33m,\u001b[0m \u001b[1;34m'state_code'\u001b[0m\u001b[1;33m:\u001b[0m \u001b[1;34m'WI'\u001b[0m\u001b[1;33m,\u001b[0m\u001b[1;34m'county_code'\u001b[0m\u001b[1;33m:\u001b[0m \u001b[1;34m'55009'\u001b[0m\u001b[1;33m,\u001b[0m \u001b[1;34m'census_tract'\u001b[0m\u001b[1;33m:\u001b[0m \u001b[1;34m'55009020702'\u001b[0m\u001b[1;33m,\u001b[0m \u001b[1;34m'conforming_loan_limit'\u001b[0m\u001b[1;33m:\u001b[0m \u001b[1;34m'C'\u001b[0m\u001b[1;33m,\u001b[0m \u001b[1;34m'derived_loan_product_type'\u001b[0m\u001b[1;33m:\u001b[0m \u001b[1;34m'Conventional:First Lien'\u001b[0m\u001b[1;33m,\u001b[0m \u001b[1;34m'derived_dwelling_category'\u001b[0m\u001b[1;33m:\u001b[0m \u001b[1;34m'Single Family (1-4 Units):Site-Built'\u001b[0m\u001b[1;33m,\u001b[0m \u001b[1;34m'derived_ethnicity'\u001b[0m\u001b[1;33m:\u001b[0m \u001b[1;34m'Not Hispanic or Latino'\u001b[0m\u001b[1;33m,\u001b[0m \u001b[1;34m'derived_race'\u001b[0m\u001b[1;33m:\u001b[0m \u001b[1;34m'White'\u001b[0m\u001b[1;33m,\u001b[0m \u001b[1;34m'derived_sex'\u001b[0m\u001b[1;33m:\u001b[0m \u001b[1;34m'Joint'\u001b[0m\u001b[1;33m,\u001b[0m \u001b[1;34m'action_taken'\u001b[0m\u001b[1;33m:\u001b[0m \u001b[1;34m'1'\u001b[0m\u001b[1;33m,\u001b[0m \u001b[1;34m'purchaser_type'\u001b[0m\u001b[1;33m:\u001b[0m \u001b[1;34m'1'\u001b[0m\u001b[1;33m,\u001b[0m \u001b[1;34m'preapproval'\u001b[0m\u001b[1;33m:\u001b[0m \u001b[1;34m'2'\u001b[0m\u001b[1;33m,\u001b[0m \u001b[1;34m'loan_type'\u001b[0m\u001b[1;33m:\u001b[0m \u001b[1;34m'1'\u001b[0m\u001b[1;33m,\u001b[0m \u001b[1;34m'loan_purpose'\u001b[0m\u001b[1;33m:\u001b[0m \u001b[1;34m'31'\u001b[0m\u001b[1;33m,\u001b[0m \u001b[1;34m'lien_status'\u001b[0m\u001b[1;33m:\u001b[0m \u001b[1;34m'1'\u001b[0m\u001b[1;33m,\u001b[0m \u001b[1;34m'reverse_mortgage'\u001b[0m\u001b[1;33m:\u001b[0m \u001b[1;34m'2'\u001b[0m\u001b[1;33m,\u001b[0m \u001b[1;34m'open-end_line_of_credit'\u001b[0m\u001b[1;33m:\u001b[0m \u001b[1;34m'2'\u001b[0m\u001b[1;33m,\u001b[0m \u001b[1;34m'business_or_commercial_purpose'\u001b[0m\u001b[1;33m:\u001b[0m \u001b[1;34m'2'\u001b[0m\u001b[1;33m,\u001b[0m \u001b[1;34m'loan_amount'\u001b[0m\u001b[1;33m:\u001b[0m \u001b[1;34m'325000.0'\u001b[0m\u001b[1;33m,\u001b[0m \u001b[1;34m'loan_to_value_ratio'\u001b[0m\u001b[1;33m:\u001b[0m \u001b[1;34m'73.409'\u001b[0m\u001b[1;33m,\u001b[0m \u001b[1;34m'interest_rate'\u001b[0m\u001b[1;33m:\u001b[0m \u001b[1;34m'2.5'\u001b[0m\u001b[1;33m,\u001b[0m \u001b[1;34m'rate_spread'\u001b[0m\u001b[1;33m:\u001b[0m \u001b[1;34m'0.304'\u001b[0m\u001b[1;33m,\u001b[0m \u001b[1;34m'hoepa_status'\u001b[0m\u001b[1;33m:\u001b[0m \u001b[1;34m'2'\u001b[0m\u001b[1;33m,\u001b[0m \u001b[1;34m'total_loan_costs'\u001b[0m\u001b[1;33m:\u001b[0m \u001b[1;34m'3932.75'\u001b[0m\u001b[1;33m,\u001b[0m \u001b[1;34m'total_points_and_fees'\u001b[0m\u001b[1;33m:\u001b[0m \u001b[1;34m'NA'\u001b[0m\u001b[1;33m,\u001b[0m \u001b[1;34m'origination_charges'\u001b[0m\u001b[1;33m:\u001b[0m \u001b[1;34m'3117.5'\u001b[0m\u001b[1;33m,\u001b[0m \u001b[1;34m'discount_points'\u001b[0m\u001b[1;33m:\u001b[0m \u001b[1;34m''\u001b[0m\u001b[1;33m,\u001b[0m \u001b[1;34m'lender_credits'\u001b[0m\u001b[1;33m:\u001b[0m \u001b[1;34m''\u001b[0m\u001b[1;33m,\u001b[0m \u001b[1;34m'loan_term'\u001b[0m\u001b[1;33m:\u001b[0m \u001b[1;34m'240'\u001b[0m\u001b[1;33m,\u001b[0m \u001b[1;34m'prepayment_penalty_term'\u001b[0m\u001b[1;33m:\u001b[0m \u001b[1;34m'NA'\u001b[0m\u001b[1;33m,\u001b[0m \u001b[1;34m'intro_rate_period'\u001b[0m\u001b[1;33m:\u001b[0m \u001b[1;34m'NA'\u001b[0m\u001b[1;33m,\u001b[0m \u001b[1;34m'negative_amortization'\u001b[0m\u001b[1;33m:\u001b[0m \u001b[1;34m'2'\u001b[0m\u001b[1;33m,\u001b[0m \u001b[1;34m'interest_only_payment'\u001b[0m\u001b[1;33m:\u001b[0m \u001b[1;34m'2'\u001b[0m\u001b[1;33m,\u001b[0m \u001b[1;34m'balloon_payment'\u001b[0m\u001b[1;33m:\u001b[0m \u001b[1;34m'2'\u001b[0m\u001b[1;33m,\u001b[0m \u001b[1;34m'other_nonamortizing_features'\u001b[0m\u001b[1;33m:\u001b[0m \u001b[1;34m'2'\u001b[0m\u001b[1;33m,\u001b[0m \u001b[1;34m'property_value'\u001b[0m\u001b[1;33m:\u001b[0m \u001b[1;34m'445000'\u001b[0m\u001b[1;33m,\u001b[0m \u001b[1;34m'construction_method'\u001b[0m\u001b[1;33m:\u001b[0m \u001b[1;34m'1'\u001b[0m\u001b[1;33m,\u001b[0m \u001b[1;34m'occupancy_type'\u001b[0m\u001b[1;33m:\u001b[0m \u001b[1;34m'1'\u001b[0m\u001b[1;33m,\u001b[0m \u001b[1;34m'manufactured_home_secured_property_type'\u001b[0m\u001b[1;33m:\u001b[0m \u001b[1;34m'3'\u001b[0m\u001b[1;33m,\u001b[0m \u001b[1;34m'manufactured_home_land_property_interest'\u001b[0m\u001b[1;33m:\u001b[0m \u001b[1;34m'5'\u001b[0m\u001b[1;33m,\u001b[0m \u001b[1;34m'total_units'\u001b[0m\u001b[1;33m:\u001b[0m \u001b[1;34m'1'\u001b[0m\u001b[1;33m,\u001b[0m \u001b[1;34m'multifamily_affordable_units'\u001b[0m\u001b[1;33m:\u001b[0m \u001b[1;34m'NA'\u001b[0m\u001b[1;33m,\u001b[0m \u001b[1;34m'income'\u001b[0m\u001b[1;33m:\u001b[0m \u001b[1;34m'264'\u001b[0m\u001b[1;33m,\u001b[0m \u001b[1;34m'debt_to_income_ratio'\u001b[0m\u001b[1;33m:\u001b[0m \u001b[1;34m'20%-<30%'\u001b[0m\u001b[1;33m,\u001b[0m \u001b[1;34m'applicant_credit_score_type'\u001b[0m\u001b[1;33m:\u001b[0m \u001b[1;34m'2'\u001b[0m\u001b[1;33m,\u001b[0m \u001b[1;34m'co-applicant_credit_score_type'\u001b[0m\u001b[1;33m:\u001b[0m \u001b[1;34m'9'\u001b[0m\u001b[1;33m,\u001b[0m \u001b[1;34m'applicant_ethnicity-1'\u001b[0m\u001b[1;33m:\u001b[0m \u001b[1;34m'2'\u001b[0m\u001b[1;33m,\u001b[0m \u001b[1;34m'applicant_ethnicity-2'\u001b[0m\u001b[1;33m:\u001b[0m \u001b[1;34m''\u001b[0m\u001b[1;33m,\u001b[0m \u001b[1;34m'applicant_ethnicity-3'\u001b[0m\u001b[1;33m:\u001b[0m \u001b[1;34m''\u001b[0m\u001b[1;33m,\u001b[0m \u001b[1;34m'applicant_ethnicity-4'\u001b[0m\u001b[1;33m:\u001b[0m \u001b[1;34m''\u001b[0m\u001b[1;33m,\u001b[0m \u001b[1;34m'applicant_ethnicity-5'\u001b[0m\u001b[1;33m:\u001b[0m \u001b[1;34m''\u001b[0m\u001b[1;33m,\u001b[0m \u001b[1;34m'co-applicant_ethnicity-1'\u001b[0m\u001b[1;33m:\u001b[0m \u001b[1;34m'2'\u001b[0m\u001b[1;33m,\u001b[0m \u001b[1;34m'co-applicant_ethnicity-2'\u001b[0m\u001b[1;33m:\u001b[0m \u001b[1;34m''\u001b[0m\u001b[1;33m,\u001b[0m \u001b[1;34m'co-applicant_ethnicity-3'\u001b[0m\u001b[1;33m:\u001b[0m \u001b[1;34m''\u001b[0m\u001b[1;33m,\u001b[0m \u001b[1;34m'co-applicant_ethnicity-4'\u001b[0m\u001b[1;33m:\u001b[0m \u001b[1;34m''\u001b[0m\u001b[1;33m,\u001b[0m \u001b[1;34m'co-applicant_ethnicity-5'\u001b[0m\u001b[1;33m:\u001b[0m \u001b[1;34m''\u001b[0m\u001b[1;33m,\u001b[0m \u001b[1;34m'applicant_ethnicity_observed'\u001b[0m\u001b[1;33m:\u001b[0m \u001b[1;34m'2'\u001b[0m\u001b[1;33m,\u001b[0m \u001b[1;34m'co-applicant_ethnicity_observed'\u001b[0m\u001b[1;33m:\u001b[0m \u001b[1;34m'2'\u001b[0m\u001b[1;33m,\u001b[0m \u001b[1;34m'applicant_race-1'\u001b[0m\u001b[1;33m:\u001b[0m \u001b[1;34m'5'\u001b[0m\u001b[1;33m,\u001b[0m \u001b[1;34m'applicant_race-2'\u001b[0m\u001b[1;33m:\u001b[0m \u001b[1;34m''\u001b[0m\u001b[1;33m,\u001b[0m \u001b[1;34m'applicant_race-3'\u001b[0m\u001b[1;33m:\u001b[0m \u001b[1;34m''\u001b[0m\u001b[1;33m,\u001b[0m \u001b[1;34m'applicant_race-4'\u001b[0m\u001b[1;33m:\u001b[0m \u001b[1;34m''\u001b[0m\u001b[1;33m,\u001b[0m \u001b[1;34m'applicant_race-5'\u001b[0m\u001b[1;33m:\u001b[0m \u001b[1;34m''\u001b[0m\u001b[1;33m,\u001b[0m \u001b[1;34m'co-applicant_race-1'\u001b[0m\u001b[1;33m:\u001b[0m \u001b[1;34m'5'\u001b[0m\u001b[1;33m,\u001b[0m \u001b[1;34m'co-applicant_race-2'\u001b[0m\u001b[1;33m:\u001b[0m \u001b[1;34m''\u001b[0m\u001b[1;33m,\u001b[0m \u001b[1;34m'co-applicant_race-3'\u001b[0m\u001b[1;33m:\u001b[0m \u001b[1;34m''\u001b[0m\u001b[1;33m,\u001b[0m \u001b[1;34m'co-applicant_race-4'\u001b[0m\u001b[1;33m:\u001b[0m \u001b[1;34m''\u001b[0m\u001b[1;33m,\u001b[0m \u001b[1;34m'co-applicant_race-5'\u001b[0m\u001b[1;33m:\u001b[0m \u001b[1;34m''\u001b[0m\u001b[1;33m,\u001b[0m \u001b[1;34m'applicant_race_observed'\u001b[0m\u001b[1;33m:\u001b[0m \u001b[1;34m'2'\u001b[0m\u001b[1;33m,\u001b[0m \u001b[1;34m'co-applicant_race_observed'\u001b[0m\u001b[1;33m:\u001b[0m \u001b[1;34m'2'\u001b[0m\u001b[1;33m,\u001b[0m \u001b[1;34m'applicant_sex'\u001b[0m\u001b[1;33m:\u001b[0m \u001b[1;34m'1'\u001b[0m\u001b[1;33m,\u001b[0m \u001b[1;34m'co-applicant_sex'\u001b[0m\u001b[1;33m:\u001b[0m \u001b[1;34m'2'\u001b[0m\u001b[1;33m,\u001b[0m \u001b[1;34m'applicant_sex_observed'\u001b[0m\u001b[1;33m:\u001b[0m \u001b[1;34m'2'\u001b[0m\u001b[1;33m,\u001b[0m \u001b[1;34m'co-applicant_sex_observed'\u001b[0m\u001b[1;33m:\u001b[0m \u001b[1;34m'2'\u001b[0m\u001b[1;33m,\u001b[0m \u001b[1;34m'applicant_age'\u001b[0m\u001b[1;33m:\u001b[0m \u001b[1;34m'35-44'\u001b[0m\u001b[1;33m,\u001b[0m \u001b[1;34m'co-applicant_age'\u001b[0m\u001b[1;33m:\u001b[0m \u001b[1;34m'35-44'\u001b[0m\u001b[1;33m,\u001b[0m \u001b[1;34m'applicant_age_above_62'\u001b[0m\u001b[1;33m:\u001b[0m \u001b[1;34m'No'\u001b[0m\u001b[1;33m,\u001b[0m \u001b[1;34m'co-applicant_age_above_62'\u001b[0m\u001b[1;33m:\u001b[0m \u001b[1;34m'No'\u001b[0m\u001b[1;33m,\u001b[0m \u001b[1;34m'submission_of_application'\u001b[0m\u001b[1;33m:\u001b[0m \u001b[1;34m'1'\u001b[0m\u001b[1;33m,\u001b[0m \u001b[1;34m'initially_payable_to_institution'\u001b[0m\u001b[1;33m:\u001b[0m \u001b[1;34m'1'\u001b[0m\u001b[1;33m,\u001b[0m \u001b[1;34m'aus-1'\u001b[0m\u001b[1;33m:\u001b[0m \u001b[1;34m'1'\u001b[0m\u001b[1;33m,\u001b[0m \u001b[1;34m'aus-2'\u001b[0m\u001b[1;33m:\u001b[0m \u001b[1;34m''\u001b[0m\u001b[1;33m,\u001b[0m \u001b[1;34m'aus-3'\u001b[0m\u001b[1;33m:\u001b[0m \u001b[1;34m''\u001b[0m\u001b[1;33m,\u001b[0m \u001b[1;34m'aus-4'\u001b[0m\u001b[1;33m:\u001b[0m \u001b[1;34m''\u001b[0m\u001b[1;33m,\u001b[0m \u001b[1;34m'aus-5'\u001b[0m\u001b[1;33m:\u001b[0m \u001b[1;34m''\u001b[0m\u001b[1;33m,\u001b[0m \u001b[1;34m'denial_reason-1'\u001b[0m\u001b[1;33m:\u001b[0m \u001b[1;34m'10'\u001b[0m\u001b[1;33m,\u001b[0m \u001b[1;34m'denial_reason-2'\u001b[0m\u001b[1;33m:\u001b[0m \u001b[1;34m''\u001b[0m\u001b[1;33m,\u001b[0m \u001b[1;34m'denial_reason-3'\u001b[0m\u001b[1;33m:\u001b[0m \u001b[1;34m''\u001b[0m\u001b[1;33m,\u001b[0m \u001b[1;34m'denial_reason-4'\u001b[0m\u001b[1;33m:\u001b[0m \u001b[1;34m''\u001b[0m\u001b[1;33m,\u001b[0m \u001b[1;34m'tract_population'\u001b[0m\u001b[1;33m:\u001b[0m \u001b[1;34m'6839'\u001b[0m\u001b[1;33m,\u001b[0m \u001b[1;34m'tract_minority_population_percent'\u001b[0m\u001b[1;33m:\u001b[0m \u001b[1;34m'8.85999999999999943'\u001b[0m\u001b[1;33m,\u001b[0m \u001b[1;34m'ffiec_msa_md_median_family_income'\u001b[0m\u001b[1;33m:\u001b[0m \u001b[1;34m'80100'\u001b[0m\u001b[1;33m,\u001b[0m \u001b[1;34m'tract_to_msa_income_percentage'\u001b[0m\u001b[1;33m:\u001b[0m \u001b[1;34m'150'\u001b[0m\u001b[1;33m,\u001b[0m \u001b[1;34m'tract_owner_occupied_units'\u001b[0m\u001b[1;33m:\u001b[0m \u001b[1;34m'1701'\u001b[0m\u001b[1;33m,\u001b[0m \u001b[1;34m'tract_one_to_four_family_homes'\u001b[0m\u001b[1;33m:\u001b[0m \u001b[1;34m'2056'\u001b[0m\u001b[1;33m,\u001b[0m \u001b[1;34m'tract_median_age_of_housing_units'\u001b[0m\u001b[1;33m:\u001b[0m \u001b[1;34m'15'\u001b[0m\u001b[1;33m}\u001b[0m\u001b[1;33m\u001b[0m\u001b[1;33m\u001b[0m\u001b[0m\n\u001b[1;32m----> 2\u001b[1;33m \u001b[0mloan\u001b[0m \u001b[1;33m=\u001b[0m \u001b[0mloans\u001b[0m\u001b[1;33m.\u001b[0m\u001b[0mLoan\u001b[0m\u001b[1;33m(\u001b[0m\u001b[0mvalues\u001b[0m\u001b[1;33m)\u001b[0m\u001b[1;33m\u001b[0m\u001b[1;33m\u001b[0m\u001b[0m\n\u001b[0m\u001b[0;32m      3\u001b[0m \u001b[1;33m\u001b[0m\u001b[0m\n\u001b[0;32m      4\u001b[0m \u001b[0mloan\u001b[0m\u001b[1;33m.\u001b[0m\u001b[0minterest_rate\u001b[0m\u001b[1;33m(\u001b[0m\u001b[1;33m)\u001b[0m\u001b[1;33m\u001b[0m\u001b[1;33m\u001b[0m\u001b[0m\n",
      "\u001b[1;32mc:\\Users\\Lanet\\Documents\\mp2\\loans.py\u001b[0m in \u001b[0;36m__init__\u001b[1;34m(self, values)\u001b[0m\n\u001b[0;32m     63\u001b[0m         \u001b[0mself\u001b[0m\u001b[1;33m.\u001b[0m\u001b[0mapplicants\u001b[0m \u001b[1;33m=\u001b[0m \u001b[0mapplicants_race\u001b[0m\u001b[1;33m\u001b[0m\u001b[1;33m\u001b[0m\u001b[0m\n\u001b[0;32m     64\u001b[0m \u001b[1;33m\u001b[0m\u001b[0m\n\u001b[1;32m---> 65\u001b[1;33m         \u001b[0mself\u001b[0m\u001b[1;33m.\u001b[0m\u001b[0mapplicants\u001b[0m \u001b[1;33m=\u001b[0m \u001b[0mvalues\u001b[0m\u001b[1;33m[\u001b[0m\u001b[1;34m\"applicants\"\u001b[0m\u001b[1;33m]\u001b[0m\u001b[1;33m\u001b[0m\u001b[1;33m\u001b[0m\u001b[0m\n\u001b[0m\u001b[0;32m     66\u001b[0m \u001b[1;33m\u001b[0m\u001b[0m\n\u001b[0;32m     67\u001b[0m     \u001b[1;32mdef\u001b[0m \u001b[0m__str__\u001b[0m\u001b[1;33m(\u001b[0m\u001b[0mself\u001b[0m\u001b[1;33m)\u001b[0m \u001b[1;33m->\u001b[0m \u001b[0mstr\u001b[0m\u001b[1;33m:\u001b[0m\u001b[1;33m\u001b[0m\u001b[1;33m\u001b[0m\u001b[0m\n",
      "\u001b[1;31mKeyError\u001b[0m: 'applicants'"
     ]
    }
   ],
   "source": [
    "values = {'activity_year': '2021', 'lei': '549300Q76VHK6FGPX546', 'derived_msa-md': '24580', 'state_code': 'WI','county_code': '55009', 'census_tract': '55009020702', 'conforming_loan_limit': 'C', 'derived_loan_product_type': 'Conventional:First Lien', 'derived_dwelling_category': 'Single Family (1-4 Units):Site-Built', 'derived_ethnicity': 'Not Hispanic or Latino', 'derived_race': 'White', 'derived_sex': 'Joint', 'action_taken': '1', 'purchaser_type': '1', 'preapproval': '2', 'loan_type': '1', 'loan_purpose': '31', 'lien_status': '1', 'reverse_mortgage': '2', 'open-end_line_of_credit': '2', 'business_or_commercial_purpose': '2', 'loan_amount': '325000.0', 'loan_to_value_ratio': '73.409', 'interest_rate': '2.5', 'rate_spread': '0.304', 'hoepa_status': '2', 'total_loan_costs': '3932.75', 'total_points_and_fees': 'NA', 'origination_charges': '3117.5', 'discount_points': '', 'lender_credits': '', 'loan_term': '240', 'prepayment_penalty_term': 'NA', 'intro_rate_period': 'NA', 'negative_amortization': '2', 'interest_only_payment': '2', 'balloon_payment': '2', 'other_nonamortizing_features': '2', 'property_value': '445000', 'construction_method': '1', 'occupancy_type': '1', 'manufactured_home_secured_property_type': '3', 'manufactured_home_land_property_interest': '5', 'total_units': '1', 'multifamily_affordable_units': 'NA', 'income': '264', 'debt_to_income_ratio': '20%-<30%', 'applicant_credit_score_type': '2', 'co-applicant_credit_score_type': '9', 'applicant_ethnicity-1': '2', 'applicant_ethnicity-2': '', 'applicant_ethnicity-3': '', 'applicant_ethnicity-4': '', 'applicant_ethnicity-5': '', 'co-applicant_ethnicity-1': '2', 'co-applicant_ethnicity-2': '', 'co-applicant_ethnicity-3': '', 'co-applicant_ethnicity-4': '', 'co-applicant_ethnicity-5': '', 'applicant_ethnicity_observed': '2', 'co-applicant_ethnicity_observed': '2', 'applicant_race-1': '5', 'applicant_race-2': '', 'applicant_race-3': '', 'applicant_race-4': '', 'applicant_race-5': '', 'co-applicant_race-1': '5', 'co-applicant_race-2': '', 'co-applicant_race-3': '', 'co-applicant_race-4': '', 'co-applicant_race-5': '', 'applicant_race_observed': '2', 'co-applicant_race_observed': '2', 'applicant_sex': '1', 'co-applicant_sex': '2', 'applicant_sex_observed': '2', 'co-applicant_sex_observed': '2', 'applicant_age': '35-44', 'co-applicant_age': '35-44', 'applicant_age_above_62': 'No', 'co-applicant_age_above_62': 'No', 'submission_of_application': '1', 'initially_payable_to_institution': '1', 'aus-1': '1', 'aus-2': '', 'aus-3': '', 'aus-4': '', 'aus-5': '', 'denial_reason-1': '10', 'denial_reason-2': '', 'denial_reason-3': '', 'denial_reason-4': '', 'tract_population': '6839', 'tract_minority_population_percent': '8.85999999999999943', 'ffiec_msa_md_median_family_income': '80100', 'tract_to_msa_income_percentage': '150', 'tract_owner_occupied_units': '1701', 'tract_one_to_four_family_homes': '2056', 'tract_median_age_of_housing_units': '15'}\n",
    "loan = loans.Loan(values)\n",
    "\n",
    "loan.interest_rate()"
   ]
  },
  {
   "cell_type": "code",
   "execution_count": 17,
   "metadata": {},
   "outputs": [
    {
     "ename": "KeyError",
     "evalue": "'applicants'",
     "output_type": "error",
     "traceback": [
      "\u001b[1;31m---------------------------------------------------------------------------\u001b[0m",
      "\u001b[1;31mKeyError\u001b[0m                                  Traceback (most recent call last)",
      "\u001b[1;32m~\\AppData\\Local\\Temp/ipykernel_5896/2187270946.py\u001b[0m in \u001b[0;36m<module>\u001b[1;34m\u001b[0m\n\u001b[0;32m      1\u001b[0m \u001b[0mvalues\u001b[0m \u001b[1;33m=\u001b[0m \u001b[1;33m{\u001b[0m\u001b[1;34m'activity_year'\u001b[0m\u001b[1;33m:\u001b[0m \u001b[1;34m'2021'\u001b[0m\u001b[1;33m,\u001b[0m \u001b[1;34m'lei'\u001b[0m\u001b[1;33m:\u001b[0m \u001b[1;34m'549300Q76VHK6FGPX546'\u001b[0m\u001b[1;33m,\u001b[0m \u001b[1;34m'derived_msa-md'\u001b[0m\u001b[1;33m:\u001b[0m \u001b[1;34m'24580'\u001b[0m\u001b[1;33m,\u001b[0m \u001b[1;34m'state_code'\u001b[0m\u001b[1;33m:\u001b[0m \u001b[1;34m'WI'\u001b[0m\u001b[1;33m,\u001b[0m\u001b[1;34m'county_code'\u001b[0m\u001b[1;33m:\u001b[0m \u001b[1;34m'55009'\u001b[0m\u001b[1;33m,\u001b[0m \u001b[1;34m'census_tract'\u001b[0m\u001b[1;33m:\u001b[0m \u001b[1;34m'55009020702'\u001b[0m\u001b[1;33m,\u001b[0m \u001b[1;34m'conforming_loan_limit'\u001b[0m\u001b[1;33m:\u001b[0m \u001b[1;34m'C'\u001b[0m\u001b[1;33m,\u001b[0m \u001b[1;34m'derived_loan_product_type'\u001b[0m\u001b[1;33m:\u001b[0m \u001b[1;34m'Conventional:First Lien'\u001b[0m\u001b[1;33m,\u001b[0m \u001b[1;34m'derived_dwelling_category'\u001b[0m\u001b[1;33m:\u001b[0m \u001b[1;34m'Single Family (1-4 Units):Site-Built'\u001b[0m\u001b[1;33m,\u001b[0m \u001b[1;34m'derived_ethnicity'\u001b[0m\u001b[1;33m:\u001b[0m \u001b[1;34m'Not Hispanic or Latino'\u001b[0m\u001b[1;33m,\u001b[0m \u001b[1;34m'derived_race'\u001b[0m\u001b[1;33m:\u001b[0m \u001b[1;34m'White'\u001b[0m\u001b[1;33m,\u001b[0m \u001b[1;34m'derived_sex'\u001b[0m\u001b[1;33m:\u001b[0m \u001b[1;34m'Joint'\u001b[0m\u001b[1;33m,\u001b[0m \u001b[1;34m'action_taken'\u001b[0m\u001b[1;33m:\u001b[0m \u001b[1;34m'1'\u001b[0m\u001b[1;33m,\u001b[0m \u001b[1;34m'purchaser_type'\u001b[0m\u001b[1;33m:\u001b[0m \u001b[1;34m'1'\u001b[0m\u001b[1;33m,\u001b[0m \u001b[1;34m'preapproval'\u001b[0m\u001b[1;33m:\u001b[0m \u001b[1;34m'2'\u001b[0m\u001b[1;33m,\u001b[0m \u001b[1;34m'loan_type'\u001b[0m\u001b[1;33m:\u001b[0m \u001b[1;34m'1'\u001b[0m\u001b[1;33m,\u001b[0m \u001b[1;34m'loan_purpose'\u001b[0m\u001b[1;33m:\u001b[0m \u001b[1;34m'31'\u001b[0m\u001b[1;33m,\u001b[0m \u001b[1;34m'lien_status'\u001b[0m\u001b[1;33m:\u001b[0m \u001b[1;34m'1'\u001b[0m\u001b[1;33m,\u001b[0m \u001b[1;34m'reverse_mortgage'\u001b[0m\u001b[1;33m:\u001b[0m \u001b[1;34m'2'\u001b[0m\u001b[1;33m,\u001b[0m \u001b[1;34m'open-end_line_of_credit'\u001b[0m\u001b[1;33m:\u001b[0m \u001b[1;34m'2'\u001b[0m\u001b[1;33m,\u001b[0m \u001b[1;34m'business_or_commercial_purpose'\u001b[0m\u001b[1;33m:\u001b[0m \u001b[1;34m'2'\u001b[0m\u001b[1;33m,\u001b[0m \u001b[1;34m'loan_amount'\u001b[0m\u001b[1;33m:\u001b[0m \u001b[1;34m'325000.0'\u001b[0m\u001b[1;33m,\u001b[0m \u001b[1;34m'loan_to_value_ratio'\u001b[0m\u001b[1;33m:\u001b[0m \u001b[1;34m'73.409'\u001b[0m\u001b[1;33m,\u001b[0m \u001b[1;34m'interest_rate'\u001b[0m\u001b[1;33m:\u001b[0m \u001b[1;34m'2.5'\u001b[0m\u001b[1;33m,\u001b[0m \u001b[1;34m'rate_spread'\u001b[0m\u001b[1;33m:\u001b[0m \u001b[1;34m'0.304'\u001b[0m\u001b[1;33m,\u001b[0m \u001b[1;34m'hoepa_status'\u001b[0m\u001b[1;33m:\u001b[0m \u001b[1;34m'2'\u001b[0m\u001b[1;33m,\u001b[0m \u001b[1;34m'total_loan_costs'\u001b[0m\u001b[1;33m:\u001b[0m \u001b[1;34m'3932.75'\u001b[0m\u001b[1;33m,\u001b[0m \u001b[1;34m'total_points_and_fees'\u001b[0m\u001b[1;33m:\u001b[0m \u001b[1;34m'NA'\u001b[0m\u001b[1;33m,\u001b[0m \u001b[1;34m'origination_charges'\u001b[0m\u001b[1;33m:\u001b[0m \u001b[1;34m'3117.5'\u001b[0m\u001b[1;33m,\u001b[0m \u001b[1;34m'discount_points'\u001b[0m\u001b[1;33m:\u001b[0m \u001b[1;34m''\u001b[0m\u001b[1;33m,\u001b[0m \u001b[1;34m'lender_credits'\u001b[0m\u001b[1;33m:\u001b[0m \u001b[1;34m''\u001b[0m\u001b[1;33m,\u001b[0m \u001b[1;34m'loan_term'\u001b[0m\u001b[1;33m:\u001b[0m \u001b[1;34m'240'\u001b[0m\u001b[1;33m,\u001b[0m \u001b[1;34m'prepayment_penalty_term'\u001b[0m\u001b[1;33m:\u001b[0m \u001b[1;34m'NA'\u001b[0m\u001b[1;33m,\u001b[0m \u001b[1;34m'intro_rate_period'\u001b[0m\u001b[1;33m:\u001b[0m \u001b[1;34m'NA'\u001b[0m\u001b[1;33m,\u001b[0m \u001b[1;34m'negative_amortization'\u001b[0m\u001b[1;33m:\u001b[0m \u001b[1;34m'2'\u001b[0m\u001b[1;33m,\u001b[0m \u001b[1;34m'interest_only_payment'\u001b[0m\u001b[1;33m:\u001b[0m \u001b[1;34m'2'\u001b[0m\u001b[1;33m,\u001b[0m \u001b[1;34m'balloon_payment'\u001b[0m\u001b[1;33m:\u001b[0m \u001b[1;34m'2'\u001b[0m\u001b[1;33m,\u001b[0m \u001b[1;34m'other_nonamortizing_features'\u001b[0m\u001b[1;33m:\u001b[0m \u001b[1;34m'2'\u001b[0m\u001b[1;33m,\u001b[0m \u001b[1;34m'property_value'\u001b[0m\u001b[1;33m:\u001b[0m \u001b[1;34m'445000'\u001b[0m\u001b[1;33m,\u001b[0m \u001b[1;34m'construction_method'\u001b[0m\u001b[1;33m:\u001b[0m \u001b[1;34m'1'\u001b[0m\u001b[1;33m,\u001b[0m \u001b[1;34m'occupancy_type'\u001b[0m\u001b[1;33m:\u001b[0m \u001b[1;34m'1'\u001b[0m\u001b[1;33m,\u001b[0m \u001b[1;34m'manufactured_home_secured_property_type'\u001b[0m\u001b[1;33m:\u001b[0m \u001b[1;34m'3'\u001b[0m\u001b[1;33m,\u001b[0m \u001b[1;34m'manufactured_home_land_property_interest'\u001b[0m\u001b[1;33m:\u001b[0m \u001b[1;34m'5'\u001b[0m\u001b[1;33m,\u001b[0m \u001b[1;34m'total_units'\u001b[0m\u001b[1;33m:\u001b[0m \u001b[1;34m'1'\u001b[0m\u001b[1;33m,\u001b[0m \u001b[1;34m'multifamily_affordable_units'\u001b[0m\u001b[1;33m:\u001b[0m \u001b[1;34m'NA'\u001b[0m\u001b[1;33m,\u001b[0m \u001b[1;34m'income'\u001b[0m\u001b[1;33m:\u001b[0m \u001b[1;34m'264'\u001b[0m\u001b[1;33m,\u001b[0m \u001b[1;34m'debt_to_income_ratio'\u001b[0m\u001b[1;33m:\u001b[0m \u001b[1;34m'20%-<30%'\u001b[0m\u001b[1;33m,\u001b[0m \u001b[1;34m'applicant_credit_score_type'\u001b[0m\u001b[1;33m:\u001b[0m \u001b[1;34m'2'\u001b[0m\u001b[1;33m,\u001b[0m \u001b[1;34m'co-applicant_credit_score_type'\u001b[0m\u001b[1;33m:\u001b[0m \u001b[1;34m'9'\u001b[0m\u001b[1;33m,\u001b[0m \u001b[1;34m'applicant_ethnicity-1'\u001b[0m\u001b[1;33m:\u001b[0m \u001b[1;34m'2'\u001b[0m\u001b[1;33m,\u001b[0m \u001b[1;34m'applicant_ethnicity-2'\u001b[0m\u001b[1;33m:\u001b[0m \u001b[1;34m''\u001b[0m\u001b[1;33m,\u001b[0m \u001b[1;34m'applicant_ethnicity-3'\u001b[0m\u001b[1;33m:\u001b[0m \u001b[1;34m''\u001b[0m\u001b[1;33m,\u001b[0m \u001b[1;34m'applicant_ethnicity-4'\u001b[0m\u001b[1;33m:\u001b[0m \u001b[1;34m''\u001b[0m\u001b[1;33m,\u001b[0m \u001b[1;34m'applicant_ethnicity-5'\u001b[0m\u001b[1;33m:\u001b[0m \u001b[1;34m''\u001b[0m\u001b[1;33m,\u001b[0m \u001b[1;34m'co-applicant_ethnicity-1'\u001b[0m\u001b[1;33m:\u001b[0m \u001b[1;34m'2'\u001b[0m\u001b[1;33m,\u001b[0m \u001b[1;34m'co-applicant_ethnicity-2'\u001b[0m\u001b[1;33m:\u001b[0m \u001b[1;34m''\u001b[0m\u001b[1;33m,\u001b[0m \u001b[1;34m'co-applicant_ethnicity-3'\u001b[0m\u001b[1;33m:\u001b[0m \u001b[1;34m''\u001b[0m\u001b[1;33m,\u001b[0m \u001b[1;34m'co-applicant_ethnicity-4'\u001b[0m\u001b[1;33m:\u001b[0m \u001b[1;34m''\u001b[0m\u001b[1;33m,\u001b[0m \u001b[1;34m'co-applicant_ethnicity-5'\u001b[0m\u001b[1;33m:\u001b[0m \u001b[1;34m''\u001b[0m\u001b[1;33m,\u001b[0m \u001b[1;34m'applicant_ethnicity_observed'\u001b[0m\u001b[1;33m:\u001b[0m \u001b[1;34m'2'\u001b[0m\u001b[1;33m,\u001b[0m \u001b[1;34m'co-applicant_ethnicity_observed'\u001b[0m\u001b[1;33m:\u001b[0m \u001b[1;34m'2'\u001b[0m\u001b[1;33m,\u001b[0m \u001b[1;34m'applicant_race-1'\u001b[0m\u001b[1;33m:\u001b[0m \u001b[1;34m'5'\u001b[0m\u001b[1;33m,\u001b[0m \u001b[1;34m'applicant_race-2'\u001b[0m\u001b[1;33m:\u001b[0m \u001b[1;34m''\u001b[0m\u001b[1;33m,\u001b[0m \u001b[1;34m'applicant_race-3'\u001b[0m\u001b[1;33m:\u001b[0m \u001b[1;34m''\u001b[0m\u001b[1;33m,\u001b[0m \u001b[1;34m'applicant_race-4'\u001b[0m\u001b[1;33m:\u001b[0m \u001b[1;34m''\u001b[0m\u001b[1;33m,\u001b[0m \u001b[1;34m'applicant_race-5'\u001b[0m\u001b[1;33m:\u001b[0m \u001b[1;34m''\u001b[0m\u001b[1;33m,\u001b[0m \u001b[1;34m'co-applicant_race-1'\u001b[0m\u001b[1;33m:\u001b[0m \u001b[1;34m'5'\u001b[0m\u001b[1;33m,\u001b[0m \u001b[1;34m'co-applicant_race-2'\u001b[0m\u001b[1;33m:\u001b[0m \u001b[1;34m''\u001b[0m\u001b[1;33m,\u001b[0m \u001b[1;34m'co-applicant_race-3'\u001b[0m\u001b[1;33m:\u001b[0m \u001b[1;34m''\u001b[0m\u001b[1;33m,\u001b[0m \u001b[1;34m'co-applicant_race-4'\u001b[0m\u001b[1;33m:\u001b[0m \u001b[1;34m''\u001b[0m\u001b[1;33m,\u001b[0m \u001b[1;34m'co-applicant_race-5'\u001b[0m\u001b[1;33m:\u001b[0m \u001b[1;34m''\u001b[0m\u001b[1;33m,\u001b[0m \u001b[1;34m'applicant_race_observed'\u001b[0m\u001b[1;33m:\u001b[0m \u001b[1;34m'2'\u001b[0m\u001b[1;33m,\u001b[0m \u001b[1;34m'co-applicant_race_observed'\u001b[0m\u001b[1;33m:\u001b[0m \u001b[1;34m'2'\u001b[0m\u001b[1;33m,\u001b[0m \u001b[1;34m'applicant_sex'\u001b[0m\u001b[1;33m:\u001b[0m \u001b[1;34m'1'\u001b[0m\u001b[1;33m,\u001b[0m \u001b[1;34m'co-applicant_sex'\u001b[0m\u001b[1;33m:\u001b[0m \u001b[1;34m'2'\u001b[0m\u001b[1;33m,\u001b[0m \u001b[1;34m'applicant_sex_observed'\u001b[0m\u001b[1;33m:\u001b[0m \u001b[1;34m'2'\u001b[0m\u001b[1;33m,\u001b[0m \u001b[1;34m'co-applicant_sex_observed'\u001b[0m\u001b[1;33m:\u001b[0m \u001b[1;34m'2'\u001b[0m\u001b[1;33m,\u001b[0m \u001b[1;34m'applicant_age'\u001b[0m\u001b[1;33m:\u001b[0m \u001b[1;34m'35-44'\u001b[0m\u001b[1;33m,\u001b[0m \u001b[1;34m'co-applicant_age'\u001b[0m\u001b[1;33m:\u001b[0m \u001b[1;34m'35-44'\u001b[0m\u001b[1;33m,\u001b[0m \u001b[1;34m'applicant_age_above_62'\u001b[0m\u001b[1;33m:\u001b[0m \u001b[1;34m'No'\u001b[0m\u001b[1;33m,\u001b[0m \u001b[1;34m'co-applicant_age_above_62'\u001b[0m\u001b[1;33m:\u001b[0m \u001b[1;34m'No'\u001b[0m\u001b[1;33m,\u001b[0m \u001b[1;34m'submission_of_application'\u001b[0m\u001b[1;33m:\u001b[0m \u001b[1;34m'1'\u001b[0m\u001b[1;33m,\u001b[0m \u001b[1;34m'initially_payable_to_institution'\u001b[0m\u001b[1;33m:\u001b[0m \u001b[1;34m'1'\u001b[0m\u001b[1;33m,\u001b[0m \u001b[1;34m'aus-1'\u001b[0m\u001b[1;33m:\u001b[0m \u001b[1;34m'1'\u001b[0m\u001b[1;33m,\u001b[0m \u001b[1;34m'aus-2'\u001b[0m\u001b[1;33m:\u001b[0m \u001b[1;34m''\u001b[0m\u001b[1;33m,\u001b[0m \u001b[1;34m'aus-3'\u001b[0m\u001b[1;33m:\u001b[0m \u001b[1;34m''\u001b[0m\u001b[1;33m,\u001b[0m \u001b[1;34m'aus-4'\u001b[0m\u001b[1;33m:\u001b[0m \u001b[1;34m''\u001b[0m\u001b[1;33m,\u001b[0m \u001b[1;34m'aus-5'\u001b[0m\u001b[1;33m:\u001b[0m \u001b[1;34m''\u001b[0m\u001b[1;33m,\u001b[0m \u001b[1;34m'denial_reason-1'\u001b[0m\u001b[1;33m:\u001b[0m \u001b[1;34m'10'\u001b[0m\u001b[1;33m,\u001b[0m \u001b[1;34m'denial_reason-2'\u001b[0m\u001b[1;33m:\u001b[0m \u001b[1;34m''\u001b[0m\u001b[1;33m,\u001b[0m \u001b[1;34m'denial_reason-3'\u001b[0m\u001b[1;33m:\u001b[0m \u001b[1;34m''\u001b[0m\u001b[1;33m,\u001b[0m \u001b[1;34m'denial_reason-4'\u001b[0m\u001b[1;33m:\u001b[0m \u001b[1;34m''\u001b[0m\u001b[1;33m,\u001b[0m \u001b[1;34m'tract_population'\u001b[0m\u001b[1;33m:\u001b[0m \u001b[1;34m'6839'\u001b[0m\u001b[1;33m,\u001b[0m \u001b[1;34m'tract_minority_population_percent'\u001b[0m\u001b[1;33m:\u001b[0m \u001b[1;34m'8.85999999999999943'\u001b[0m\u001b[1;33m,\u001b[0m \u001b[1;34m'ffiec_msa_md_median_family_income'\u001b[0m\u001b[1;33m:\u001b[0m \u001b[1;34m'80100'\u001b[0m\u001b[1;33m,\u001b[0m \u001b[1;34m'tract_to_msa_income_percentage'\u001b[0m\u001b[1;33m:\u001b[0m \u001b[1;34m'150'\u001b[0m\u001b[1;33m,\u001b[0m \u001b[1;34m'tract_owner_occupied_units'\u001b[0m\u001b[1;33m:\u001b[0m \u001b[1;34m'1701'\u001b[0m\u001b[1;33m,\u001b[0m \u001b[1;34m'tract_one_to_four_family_homes'\u001b[0m\u001b[1;33m:\u001b[0m \u001b[1;34m'2056'\u001b[0m\u001b[1;33m,\u001b[0m \u001b[1;34m'tract_median_age_of_housing_units'\u001b[0m\u001b[1;33m:\u001b[0m \u001b[1;34m'15'\u001b[0m\u001b[1;33m}\u001b[0m\u001b[1;33m\u001b[0m\u001b[1;33m\u001b[0m\u001b[0m\n\u001b[0;32m      2\u001b[0m \u001b[1;33m\u001b[0m\u001b[0m\n\u001b[1;32m----> 3\u001b[1;33m \u001b[0mloan\u001b[0m \u001b[1;33m=\u001b[0m \u001b[0mloans\u001b[0m\u001b[1;33m.\u001b[0m\u001b[0mLoan\u001b[0m\u001b[1;33m(\u001b[0m\u001b[0mvalues\u001b[0m\u001b[1;33m)\u001b[0m\u001b[1;33m\u001b[0m\u001b[1;33m\u001b[0m\u001b[0m\n\u001b[0m\u001b[0;32m      4\u001b[0m \u001b[1;33m\u001b[0m\u001b[0m\n\u001b[0;32m      5\u001b[0m \u001b[0mloan\u001b[0m\u001b[1;33m.\u001b[0m\u001b[0minterest_rate\u001b[0m\u001b[1;33m(\u001b[0m\u001b[1;33m)\u001b[0m\u001b[1;33m\u001b[0m\u001b[1;33m\u001b[0m\u001b[0m\n",
      "\u001b[1;32mc:\\Users\\Lanet\\Documents\\mp2\\loans.py\u001b[0m in \u001b[0;36m__init__\u001b[1;34m(self, values)\u001b[0m\n\u001b[0;32m     63\u001b[0m         \u001b[0mself\u001b[0m\u001b[1;33m.\u001b[0m\u001b[0mapplicants\u001b[0m \u001b[1;33m=\u001b[0m \u001b[0mapplicants_race\u001b[0m\u001b[1;33m\u001b[0m\u001b[1;33m\u001b[0m\u001b[0m\n\u001b[0;32m     64\u001b[0m \u001b[1;33m\u001b[0m\u001b[0m\n\u001b[1;32m---> 65\u001b[1;33m         \u001b[0mself\u001b[0m\u001b[1;33m.\u001b[0m\u001b[0mapplicants\u001b[0m \u001b[1;33m=\u001b[0m \u001b[0mvalues\u001b[0m\u001b[1;33m[\u001b[0m\u001b[1;34m\"applicants\"\u001b[0m\u001b[1;33m]\u001b[0m\u001b[1;33m\u001b[0m\u001b[1;33m\u001b[0m\u001b[0m\n\u001b[0m\u001b[0;32m     66\u001b[0m \u001b[1;33m\u001b[0m\u001b[0m\n\u001b[0;32m     67\u001b[0m     \u001b[1;32mdef\u001b[0m \u001b[0m__str__\u001b[0m\u001b[1;33m(\u001b[0m\u001b[0mself\u001b[0m\u001b[1;33m)\u001b[0m \u001b[1;33m->\u001b[0m \u001b[0mstr\u001b[0m\u001b[1;33m:\u001b[0m\u001b[1;33m\u001b[0m\u001b[1;33m\u001b[0m\u001b[0m\n",
      "\u001b[1;31mKeyError\u001b[0m: 'applicants'"
     ]
    }
   ],
   "source": [
    "\n",
    "\n",
    "values = {'activity_year': '2021', 'lei': '549300Q76VHK6FGPX546', 'derived_msa-md': '24580', 'state_code': 'WI','county_code': '55009', 'census_tract': '55009020702', 'conforming_loan_limit': 'C', 'derived_loan_product_type': 'Conventional:First Lien', 'derived_dwelling_category': 'Single Family (1-4 Units):Site-Built', 'derived_ethnicity': 'Not Hispanic or Latino', 'derived_race': 'White', 'derived_sex': 'Joint', 'action_taken': '1', 'purchaser_type': '1', 'preapproval': '2', 'loan_type': '1', 'loan_purpose': '31', 'lien_status': '1', 'reverse_mortgage': '2', 'open-end_line_of_credit': '2', 'business_or_commercial_purpose': '2', 'loan_amount': '325000.0', 'loan_to_value_ratio': '73.409', 'interest_rate': '2.5', 'rate_spread': '0.304', 'hoepa_status': '2', 'total_loan_costs': '3932.75', 'total_points_and_fees': 'NA', 'origination_charges': '3117.5', 'discount_points': '', 'lender_credits': '', 'loan_term': '240', 'prepayment_penalty_term': 'NA', 'intro_rate_period': 'NA', 'negative_amortization': '2', 'interest_only_payment': '2', 'balloon_payment': '2', 'other_nonamortizing_features': '2', 'property_value': '445000', 'construction_method': '1', 'occupancy_type': '1', 'manufactured_home_secured_property_type': '3', 'manufactured_home_land_property_interest': '5', 'total_units': '1', 'multifamily_affordable_units': 'NA', 'income': '264', 'debt_to_income_ratio': '20%-<30%', 'applicant_credit_score_type': '2', 'co-applicant_credit_score_type': '9', 'applicant_ethnicity-1': '2', 'applicant_ethnicity-2': '', 'applicant_ethnicity-3': '', 'applicant_ethnicity-4': '', 'applicant_ethnicity-5': '', 'co-applicant_ethnicity-1': '2', 'co-applicant_ethnicity-2': '', 'co-applicant_ethnicity-3': '', 'co-applicant_ethnicity-4': '', 'co-applicant_ethnicity-5': '', 'applicant_ethnicity_observed': '2', 'co-applicant_ethnicity_observed': '2', 'applicant_race-1': '5', 'applicant_race-2': '', 'applicant_race-3': '', 'applicant_race-4': '', 'applicant_race-5': '', 'co-applicant_race-1': '5', 'co-applicant_race-2': '', 'co-applicant_race-3': '', 'co-applicant_race-4': '', 'co-applicant_race-5': '', 'applicant_race_observed': '2', 'co-applicant_race_observed': '2', 'applicant_sex': '1', 'co-applicant_sex': '2', 'applicant_sex_observed': '2', 'co-applicant_sex_observed': '2', 'applicant_age': '35-44', 'co-applicant_age': '35-44', 'applicant_age_above_62': 'No', 'co-applicant_age_above_62': 'No', 'submission_of_application': '1', 'initially_payable_to_institution': '1', 'aus-1': '1', 'aus-2': '', 'aus-3': '', 'aus-4': '', 'aus-5': '', 'denial_reason-1': '10', 'denial_reason-2': '', 'denial_reason-3': '', 'denial_reason-4': '', 'tract_population': '6839', 'tract_minority_population_percent': '8.85999999999999943', 'ffiec_msa_md_median_family_income': '80100', 'tract_to_msa_income_percentage': '150', 'tract_owner_occupied_units': '1701', 'tract_one_to_four_family_homes': '2056', 'tract_median_age_of_housing_units': '15'}\n",
    "\n",
    "loan = loans.Loan(values)\n",
    "\n",
    "loan.interest_rate()\n"
   ]
  },
  {
   "cell_type": "code",
   "execution_count": null,
   "metadata": {},
   "outputs": [],
   "source": [
    "#Q1\n",
    "    #average interest rate for the bank\n",
    "sumofRates = 0\n",
    "bankNums = 0\n",
    "\n",
    "\n",
    "\n",
    "avg = sumofRates/bankNums"
   ]
  },
  {
   "cell_type": "code",
   "execution_count": null,
   "metadata": {},
   "outputs": [],
   "source": [
    "#Q2"
   ]
  },
  {
   "cell_type": "code",
   "execution_count": null,
   "metadata": {},
   "outputs": [],
   "source": [
    "#Q3     "
   ]
  },
  {
   "cell_type": "code",
   "execution_count": null,
   "metadata": {},
   "outputs": [],
   "source": [
    "#Q4"
   ]
  },
  {
   "cell_type": "code",
   "execution_count": null,
   "metadata": {},
   "outputs": [],
   "source": [
    "#Q5"
   ]
  },
  {
   "cell_type": "code",
   "execution_count": null,
   "metadata": {},
   "outputs": [],
   "source": [
    "#Q6"
   ]
  },
  {
   "cell_type": "code",
   "execution_count": null,
   "metadata": {},
   "outputs": [],
   "source": [
    "#Q7"
   ]
  },
  {
   "cell_type": "code",
   "execution_count": null,
   "metadata": {},
   "outputs": [],
   "source": [
    "#Q8"
   ]
  },
  {
   "cell_type": "code",
   "execution_count": null,
   "metadata": {},
   "outputs": [],
   "source": [
    "#Q9"
   ]
  },
  {
   "cell_type": "code",
   "execution_count": null,
   "metadata": {},
   "outputs": [],
   "source": [
    "#Q10\n",
    "def countNode(root):\n",
    "    if root is None:\n",
    "        return 0\n",
    "    return 1 + countNode(root.left) + countNode(root.right)\n",
    "\n",
    "countNode(tree.root)"
   ]
  },
  {
   "cell_type": "code",
   "execution_count": null,
   "metadata": {},
   "outputs": [],
   "source": []
  }
 ],
 "metadata": {
  "kernelspec": {
   "display_name": "Python 3",
   "language": "python",
   "name": "python3"
  },
  "language_info": {
   "codemirror_mode": {
    "name": "ipython",
    "version": 3
   },
   "file_extension": ".py",
   "mimetype": "text/x-python",
   "name": "python",
   "nbconvert_exporter": "python",
   "pygments_lexer": "ipython3",
   "version": "3.9.7"
  }
 },
 "nbformat": 4,
 "nbformat_minor": 2
}
